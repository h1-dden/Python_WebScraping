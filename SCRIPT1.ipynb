{
 "cells": [
  {
   "cell_type": "code",
   "execution_count": null,
   "metadata": {},
   "outputs": [],
   "source": [
    "import pandas as pd\n",
    "from bs4 import BeautifulSoup as bsp \n",
    "import requests\n",
    "import os\n",
    "cwd = os.getcwd()"
   ]
  },
  {
   "cell_type": "code",
   "execution_count": null,
   "metadata": {},
   "outputs": [
    {
     "name": "stdout",
     "output_type": "stream",
     "text": [
      "            URL_ID                                                URL\n",
      "0  blackassign0001  https://insights.blackcoffer.com/rising-it-cit...\n",
      "1  blackassign0002  https://insights.blackcoffer.com/rising-it-cit...\n",
      "2  blackassign0003  https://insights.blackcoffer.com/internet-dema...\n",
      "3  blackassign0004  https://insights.blackcoffer.com/rise-of-cyber...\n",
      "4  blackassign0005  https://insights.blackcoffer.com/ott-platform-...\n"
     ]
    }
   ],
   "source": [
    "URLfile= pd.read_excel(cwd+\"/Input.xlsx\")\n",
    "df=pd.DataFrame()\n",
    "print(URLfile.head())"
   ]
  },
  {
   "cell_type": "code",
   "execution_count": 49,
   "metadata": {},
   "outputs": [
    {
     "name": "stdout",
     "output_type": "stream",
     "text": [
      "8\n",
      "Rising IT cities and its impact on the economy, environment, infrastructure, and city life by the year 2040. - Blackcoffer Insights\n",
      "[<div class=\"tdb-block-inner td-fix-index\"><span class=\"tdb-mobile-menu-button\"><i class=\"tdb-mobile-menu-icon td-icon-mobile\"></i></span></div>, <div class=\"tdb-block-inner td-fix-index\"><a class=\"tdb-logo-a\" href=\"https://insights.blackcoffer.com/\"><span class=\"tdb-logo-img-wrap\"><img alt=\"Logo\" class=\"tdb-logo-img\" src=\"https://insights.blackcoffer.com/wp-content/uploads/2018/12/Insights-blackv02.png\" title=\"\"/></span></a></div>, <div class=\"tdb-block-inner td-fix-index\"><span class=\"tdb-header-search-button-mob dropdown-toggle\" data-toggle=\"dropdown\"><span class=\"tdb-mobile-search-icon tdb-mobile-search-icon-svg\"><svg version=\"1.1\" viewbox=\"0 0 1024 1024\" xmlns=\"http://www.w3.org/2000/svg\"><path d=\"M946.371 843.601l-125.379-125.44c43.643-65.925 65.495-142.1 65.475-218.040 0.051-101.069-38.676-202.588-115.835-279.706-77.117-77.148-178.606-115.948-279.644-115.886-101.079-0.061-202.557 38.738-279.665 115.876-77.169 77.128-115.937 178.627-115.907 279.716-0.031 101.069 38.728 202.588 115.907 279.665 77.117 77.117 178.616 115.825 279.665 115.804 75.94 0.020 152.136-21.862 218.061-65.495l125.348 125.46c30.915 30.904 81.029 30.904 111.954 0.020 30.915-30.935 30.915-81.029 0.020-111.974zM705.772 714.925c-59.443 59.341-136.899 88.842-214.784 88.924-77.896-0.082-155.341-29.583-214.784-88.924-59.443-59.484-88.975-136.919-89.037-214.804 0.061-77.885 29.604-155.372 89.037-214.825 59.464-59.443 136.878-88.945 214.784-89.016 77.865 0.082 155.3 29.583 214.784 89.016 59.361 59.464 88.914 136.919 88.945 214.825-0.041 77.885-29.583 155.361-88.945 214.804z\"></path></svg></span></span></div>, <div class=\"tdb-block-inner td-fix-index\"><div class=\"tdb-head-date-txt\">Friday, December 29, 2023</div></div>, <div class=\"tdb-block-inner td-fix-index\"><a class=\"td-login-modal-js tdb-head-usr-item tdb-head-usr-log\" data-effect=\"mpf-td-login-effect\" href=\"#login-form\"><span class=\"tdb-head-usr-log-txt\">Sign in / Join</span></a></div>, <div class=\"tdb-block-inner td-fix-index\"><a class=\"tdb-logo-a\" href=\"https://insights.blackcoffer.com/\"><span class=\"tdb-logo-img-wrap\"><img alt=\"Logo\" class=\"tdb-logo-img\" src=\"https://insights.blackcoffer.com/wp-content/uploads/2018/12/Insights-blackv02.png\" title=\"\"/></span></a></div>, <div class=\"tdb-block-inner td-fix-index\"><div aria-labelledby=\"td-header-search-button\" class=\"tdb-drop-down-search\"><div class=\"tdb-drop-down-search-inner\"><form action=\"https://insights.blackcoffer.com/\" class=\"tdb-search-form\" method=\"get\"><div class=\"tdb-search-form-inner\"><input autocomplete=\"off\" class=\"tdb-head-search-form-input\" name=\"s\" placeholder=\" \" type=\"text\" value=\"\"/><button class=\"wpb_button wpb_btn-inverse btn tdb-head-search-form-btn\" type=\"submit\"><span>Search</span><i class=\"tdb-head-search-form-btn-icon td-icon-menu-right\"></i></button></div></form><div class=\"tdb-aj-search\"></div></div></div><a aria-label=\"Search\" class=\"tdb-head-search-btn dropdown-toggle\" data-toggle=\"dropdown\" href=\"#\" role=\"button\"><i class=\"tdb-search-icon td-icon-search\"></i></a></div>, <div class=\"tdb-block-inner td-fix-index\"><a class=\"tdb-logo-a\" href=\"https://insights.blackcoffer.com/\"><span class=\"tdb-logo-img-wrap\"><img alt=\"Logo\" class=\"tdb-logo-img\" height=\"125\" src=\"https://insights.blackcoffer.com/wp-content/uploads/2023/03/insights-white.png\" title=\"\" width=\"621\"/></span></a></div>]\n"
     ]
    }
   ],
   "source": [
    "urls=URLfile.iloc[0,1]\n",
    "response=requests.get(urls)\n",
    "soup=bsp(response.text,'html')\n",
    "title=soup.title.text\n",
    "body=soup.find_all('div', class_='tdb-block-inner td-fix-index')\n",
    "print(len(body))\n",
    "print(title)\n",
    "print(body)"
   ]
  },
  {
   "cell_type": "code",
   "execution_count": 50,
   "metadata": {},
   "outputs": [
    {
     "name": "stdout",
     "output_type": "stream",
     "text": [
      "<div class=\"tdb-block-inner td-fix-index\"><a class=\"tdb-logo-a\" href=\"https://insights.blackcoffer.com/\"><span class=\"tdb-logo-img-wrap\"><img alt=\"Logo\" class=\"tdb-logo-img\" height=\"125\" src=\"https://insights.blackcoffer.com/wp-content/uploads/2023/03/insights-white.png\" title=\"\" width=\"621\"/></span></a></div>\n"
     ]
    }
   ],
   "source": [
    "print(body[-1])"
   ]
  },
  {
   "cell_type": "code",
   "execution_count": 38,
   "metadata": {},
   "outputs": [
    {
     "name": "stdout",
     "output_type": "stream",
     "text": [
      "                                       extracted text\n",
      "0   Rising IT cities and its impact on the economy...\n",
      "1   Rising IT Cities and Their Impact on the Econo...\n",
      "2   Internet Demand's Evolution, Communication Imp...\n",
      "3   Rise of Cybercrime and its Effect in upcoming ...\n",
      "4   OTT platform and its impact on the entertainme...\n",
      "..                                                ...\n",
      "95  Due to the COVID-19 the repercussion of the en...\n",
      "96  Impact of COVID-19 pandemic on office space an...\n",
      "97  Contribution of handicrafts (Visual Arts & Lit...\n",
      "98  How COVID-19 is impacting payment preferences?...\n",
      "99  How will COVID-19 affect the world of work? - ...\n",
      "\n",
      "[100 rows x 1 columns]\n"
     ]
    }
   ],
   "source": [
    "def scrape_data(URL):\n",
    "    response=requests.get(URL)\n",
    "    if response.status_code == 200:\n",
    "        soup=bsp(response.text,'html')\n",
    "        title=soup.title.text\n",
    "        return title\n",
    "    else:\n",
    "        return None\n",
    "\n",
    "df['extracted text']= URLfile['URL'].apply(scrape_data)\n",
    "print(df)"
   ]
  },
  {
   "cell_type": "code",
   "execution_count": null,
   "metadata": {},
   "outputs": [],
   "source": []
  }
 ],
 "metadata": {
  "kernelspec": {
   "display_name": "Python 3",
   "language": "python",
   "name": "python3"
  },
  "language_info": {
   "codemirror_mode": {
    "name": "ipython",
    "version": 3
   },
   "file_extension": ".py",
   "mimetype": "text/x-python",
   "name": "python",
   "nbconvert_exporter": "python",
   "pygments_lexer": "ipython3",
   "version": "3.11.5"
  }
 },
 "nbformat": 4,
 "nbformat_minor": 2
}
